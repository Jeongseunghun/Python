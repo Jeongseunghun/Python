{
 "cells": [
  {
   "cell_type": "code",
   "execution_count": 13,
   "metadata": {},
   "outputs": [],
   "source": [
    "import pandas as pd"
   ]
  },
  {
   "cell_type": "code",
   "execution_count": 32,
   "metadata": {},
   "outputs": [
    {
     "name": "stdout",
     "output_type": "stream",
     "text": [
      "     이름        학번\n",
      "0   최종헌  20152534\n",
      "1   공병주  20172703\n",
      "2   한상민  20172790\n",
      "3   정승훈  20172780\n",
      "4   방남지  20172734\n",
      "5   유수안  20192704\n",
      "6   송치현  20192690\n",
      "7   고희정  20192657\n",
      "8   김해린  20201521\n",
      "9   정예빈  20201560\n",
      "10  강해솔  20202926\n",
      "11  김세환  20201514\n",
      "12  권우정  20201511\n"
     ]
    }
   ],
   "source": [
    "sample=pd.read_excel('D:\\바탕화면/start UF 명단.xlsx',header=0,usecols='a:b')\n",
    "print(sample.head(13))"
   ]
  }
 ],
 "metadata": {
  "kernelspec": {
   "display_name": "Python 3",
   "language": "python",
   "name": "python3"
  },
  "language_info": {
   "codemirror_mode": {
    "name": "ipython",
    "version": 3
   },
   "file_extension": ".py",
   "mimetype": "text/x-python",
   "name": "python",
   "nbconvert_exporter": "python",
   "pygments_lexer": "ipython3",
   "version": "3.8.3"
  }
 },
 "nbformat": 4,
 "nbformat_minor": 4
}
